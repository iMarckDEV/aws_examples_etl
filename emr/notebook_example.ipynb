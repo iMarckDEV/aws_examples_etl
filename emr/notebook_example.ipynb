{
 "cells": [
  {
   "cell_type": "markdown",
   "id": "8b2cef7b-585b-47e9-bd6c-445f7ba5512b",
   "metadata": {},
   "source": [
    "---\n",
    "<span style=\"color:orange;font-size:30px;\">PRELIMINAR BEGIN</span>\n",
    "---\n"
   ]
  },
  {
   "cell_type": "code",
   "execution_count": 1,
   "id": "2f5c85a0-ed7c-468f-be53-402ad22d142d",
   "metadata": {
    "execution": {
     "iopub.execute_input": "2023-07-12T17:02:10.880586Z",
     "iopub.status.busy": "2023-07-12T17:02:10.880294Z",
     "iopub.status.idle": "2023-07-12T17:02:11.313565Z",
     "shell.execute_reply": "2023-07-12T17:02:11.312855Z",
     "shell.execute_reply.started": "2023-07-12T17:02:10.880563Z"
    },
    "tags": []
   },
   "outputs": [
    {
     "data": {
      "text/html": [
       "Current session configs: <tt>{'conf': {'spark.jars': 'hdfs:///apps/hudi/lib/hudi-spark-bundle.jar,hdfs:///apps/hudi/lib/spark-avro.jar', 'spark.serializer': 'org.apache.spark.serializer.KryoSerializer', 'spark.sql.hive.convertMetastoreParquet': 'false'}, 'proxyUser': 'assumed-role_arkhoDeveloperCrossAccountRole_mloaiza_aws_arkho_io', 'kind': 'pyspark'}</tt><br>"
      ],
      "text/plain": [
       "<IPython.core.display.HTML object>"
      ]
     },
     "metadata": {},
     "output_type": "display_data"
    },
    {
     "data": {
      "text/html": [
       "No active sessions."
      ],
      "text/plain": [
       "<IPython.core.display.HTML object>"
      ]
     },
     "metadata": {},
     "output_type": "display_data"
    }
   ],
   "source": [
    "%%configure\n",
    "{ \"conf\": {\n",
    "  \"spark.jars\":\"hdfs:///apps/hudi/lib/hudi-spark-bundle.jar,hdfs:///apps/hudi/lib/spark-avro.jar\",\n",
    "  \"spark.serializer\":\"org.apache.spark.serializer.KryoSerializer\",\n",
    "  \"spark.sql.hive.convertMetastoreParquet\":\"false\"\n",
    "}}"
   ]
  },
  {
   "cell_type": "code",
   "execution_count": 2,
   "id": "5594d1cc-dde7-419b-9915-9dc6604d49a5",
   "metadata": {
    "execution": {
     "iopub.execute_input": "2023-07-12T17:02:12.914451Z",
     "iopub.status.busy": "2023-07-12T17:02:12.914184Z",
     "iopub.status.idle": "2023-07-12T17:02:47.218301Z",
     "shell.execute_reply": "2023-07-12T17:02:47.217649Z",
     "shell.execute_reply.started": "2023-07-12T17:02:12.914431Z"
    },
    "tags": []
   },
   "outputs": [
    {
     "data": {
      "application/vnd.jupyter.widget-view+json": {
       "model_id": "10d373c69ca148f497141ec76929258b",
       "version_major": 2,
       "version_minor": 0
      },
      "text/plain": [
       "VBox()"
      ]
     },
     "metadata": {},
     "output_type": "display_data"
    },
    {
     "name": "stdout",
     "output_type": "stream",
     "text": [
      "Starting Spark application\n"
     ]
    },
    {
     "data": {
      "text/html": [
       "<table>\n",
       "<tbody><tr><th>ID</th><th>YARN Application ID</th><th>Kind</th><th>State</th><th>Spark UI</th><th>Driver log</th><th>User</th><th>Current session?</th></tr><tr><td>0</td><td>application_1689180971920_0001</td><td>pyspark</td><td>idle</td><td><a target=\"_blank\" href=\"http://ip-192-168-226-91.ec2.internal:20888/proxy/application_1689180971920_0001/\" class=\"emr-proxy-link j-3PRIFJAKMLPRW application_1689180971920_0001\" emr-resource=\"j-3PRIFJAKMLPRW\n",
       "\" application-id=\"application_1689180971920_0001\">Link</a></td><td><a target=\"_blank\" href=\"http://ip-192-168-226-78.ec2.internal:8042/node/containerlogs/container_1689180971920_0001_01_000001/livy\">Link</a></td><td>None</td><td>✔</td></tr></tbody></table>"
      ],
      "text/plain": [
       "<IPython.core.display.HTML object>"
      ]
     },
     "metadata": {},
     "output_type": "display_data"
    },
    {
     "data": {
      "application/vnd.jupyter.widget-view+json": {
       "model_id": "",
       "version_major": 2,
       "version_minor": 0
      },
      "text/plain": [
       "FloatProgress(value=0.0, bar_style='info', description='Progress:', layout=Layout(height='25px', width='50%'),…"
      ]
     },
     "metadata": {},
     "output_type": "display_data"
    },
    {
     "name": "stdout",
     "output_type": "stream",
     "text": [
      "SparkSession available as 'spark'.\n"
     ]
    },
    {
     "data": {
      "application/vnd.jupyter.widget-view+json": {
       "model_id": "",
       "version_major": 2,
       "version_minor": 0
      },
      "text/plain": [
       "FloatProgress(value=0.0, bar_style='info', description='Progress:', layout=Layout(height='25px', width='50%'),…"
      ]
     },
     "metadata": {},
     "output_type": "display_data"
    },
    {
     "name": "stdout",
     "output_type": "stream",
     "text": [
      "<pyspark.sql.session.SparkSession object at 0xffffa40c2210>"
     ]
    }
   ],
   "source": [
    "spark"
   ]
  },
  {
   "cell_type": "code",
   "execution_count": 3,
   "id": "74c27ddb-e6d8-47db-a52f-0263f6e0cdea",
   "metadata": {
    "execution": {
     "iopub.execute_input": "2023-07-12T17:02:47.219480Z",
     "iopub.status.busy": "2023-07-12T17:02:47.219303Z",
     "iopub.status.idle": "2023-07-12T17:02:47.297625Z",
     "shell.execute_reply": "2023-07-12T17:02:47.296949Z",
     "shell.execute_reply.started": "2023-07-12T17:02:47.219461Z"
    },
    "tags": []
   },
   "outputs": [
    {
     "data": {
      "application/vnd.jupyter.widget-view+json": {
       "model_id": "ea0c0313b3a84d44ac7716632dc47a05",
       "version_major": 2,
       "version_minor": 0
      },
      "text/plain": [
       "VBox()"
      ]
     },
     "metadata": {},
     "output_type": "display_data"
    },
    {
     "data": {
      "application/vnd.jupyter.widget-view+json": {
       "model_id": "",
       "version_major": 2,
       "version_minor": 0
      },
      "text/plain": [
       "FloatProgress(value=0.0, bar_style='info', description='Progress:', layout=Layout(height='25px', width='50%'),…"
      ]
     },
     "metadata": {},
     "output_type": "display_data"
    }
   ],
   "source": [
    "##CALL SOME LIBRARIES IF WHERE NECESARY\n",
    "from pyspark.context import SparkContext\n",
    "from pyspark.sql.session import SparkSession\n",
    "from pyspark.sql.functions import col, to_timestamp, monotonically_increasing_id, to_date, when\n",
    "from pyspark.sql.types import StructType, StructField, IntegerType, StringType, array, ArrayType, DateType, DecimalType, TimestampType, DoubleType\n",
    "from pyspark.sql.functions import col, to_timestamp, monotonically_increasing_id, to_date, when,from_utc_timestamp\n",
    "from pyspark.sql.functions import input_file_name, regexp_extract, isnan, isnull\n",
    "from pyspark.sql.types import *\n",
    "from datetime import datetime, timedelta\n",
    "import time\n",
    "\n",
    "from pyspark.sql import DataFrame\n",
    "from pyspark.sql.types import StructType,StructField, StringType, IntegerType, ArrayType\n",
    "from pyspark.context import SparkContext\n",
    "from pyspark.sql.functions import *\n",
    "from pyspark.sql.window import Window\n",
    "from pyspark.sql.session import SparkSession\n",
    "from datetime import datetime\n",
    "import hashlib"
   ]
  },
  {
   "cell_type": "markdown",
   "id": "0c312037-250d-4d6a-b9e7-16855d05b3d3",
   "metadata": {},
   "source": [
    "---\n",
    "<span style=\"color:green;font-size:30px;\">READING THE DATA LIST FILES</span>\n",
    "---\n"
   ]
  },
  {
   "cell_type": "code",
   "execution_count": 4,
   "id": "1c3b943b-353f-4d9b-b7a0-6a8570ba25e2",
   "metadata": {
    "execution": {
     "iopub.execute_input": "2023-07-12T17:03:38.391726Z",
     "iopub.status.busy": "2023-07-12T17:03:38.391414Z",
     "iopub.status.idle": "2023-07-12T17:03:47.721806Z",
     "shell.execute_reply": "2023-07-12T17:03:47.721044Z",
     "shell.execute_reply.started": "2023-07-12T17:03:38.391698Z"
    }
   },
   "outputs": [
    {
     "data": {
      "application/vnd.jupyter.widget-view+json": {
       "model_id": "7dad35f41c4640969e83110b295cea8c",
       "version_major": 2,
       "version_minor": 0
      },
      "text/plain": [
       "VBox()"
      ]
     },
     "metadata": {},
     "output_type": "display_data"
    },
    {
     "data": {
      "application/vnd.jupyter.widget-view+json": {
       "model_id": "",
       "version_major": 2,
       "version_minor": 0
      },
      "text/plain": [
       "FloatProgress(value=0.0, bar_style='info', description='Progress:', layout=Layout(height='25px', width='50%'),…"
      ]
     },
     "metadata": {},
     "output_type": "display_data"
    },
    {
     "name": "stdout",
     "output_type": "stream",
     "text": [
      "root\n",
      " |-- RUTA: string (nullable = true)\n",
      " |-- VIN: string (nullable = true)\n",
      " |-- size: string (nullable = true)"
     ]
    }
   ],
   "source": [
    "#i got the list of files to read there were in a csv\n",
    "s3_path='s3://mloaiza.test/files_all.csv'\n",
    "df_list_files = spark.read.csv(s3_path, header=True,sep=';')\n",
    "df_list_files.printSchema()"
   ]
  },
  {
   "cell_type": "code",
   "execution_count": 5,
   "id": "d324360a-3125-40ee-b425-ce95a48cb3b5",
   "metadata": {
    "execution": {
     "iopub.execute_input": "2023-07-12T17:04:34.182591Z",
     "iopub.status.busy": "2023-07-12T17:04:34.182317Z",
     "iopub.status.idle": "2023-07-12T17:04:37.470904Z",
     "shell.execute_reply": "2023-07-12T17:04:37.470223Z",
     "shell.execute_reply.started": "2023-07-12T17:04:34.182570Z"
    }
   },
   "outputs": [
    {
     "data": {
      "application/vnd.jupyter.widget-view+json": {
       "model_id": "fe21b6046e3f4ace946a305c00ce0d2f",
       "version_major": 2,
       "version_minor": 0
      },
      "text/plain": [
       "VBox()"
      ]
     },
     "metadata": {},
     "output_type": "display_data"
    },
    {
     "data": {
      "application/vnd.jupyter.widget-view+json": {
       "model_id": "",
       "version_major": 2,
       "version_minor": 0
      },
      "text/plain": [
       "FloatProgress(value=0.0, bar_style='info', description='Progress:', layout=Layout(height='25px', width='50%'),…"
      ]
     },
     "metadata": {},
     "output_type": "display_data"
    }
   ],
   "source": [
    "###convert the RUTA \"PATH\" filed in a list of files\n",
    "list_files = df_list_files.select('RUTA').distinct().rdd.flatMap(\n",
    "    lambda x: x).collect() \n"
   ]
  },
  {
   "cell_type": "code",
   "execution_count": 13,
   "id": "948f4e18-969d-4e3e-8186-167c7e670f3e",
   "metadata": {
    "execution": {
     "iopub.execute_input": "2023-07-12T17:09:45.593760Z",
     "iopub.status.busy": "2023-07-12T17:09:45.593502Z",
     "iopub.status.idle": "2023-07-12T17:10:17.012189Z",
     "shell.execute_reply": "2023-07-12T17:10:17.011478Z",
     "shell.execute_reply.started": "2023-07-12T17:09:45.593739Z"
    },
    "tags": []
   },
   "outputs": [
    {
     "data": {
      "application/vnd.jupyter.widget-view+json": {
       "model_id": "45ef6b55a19b4971acc3829bf94c8204",
       "version_major": 2,
       "version_minor": 0
      },
      "text/plain": [
       "VBox()"
      ]
     },
     "metadata": {},
     "output_type": "display_data"
    },
    {
     "data": {
      "application/vnd.jupyter.widget-view+json": {
       "model_id": "",
       "version_major": 2,
       "version_minor": 0
      },
      "text/plain": [
       "FloatProgress(value=0.0, bar_style='info', description='Progress:', layout=Layout(height='25px', width='50%'),…"
      ]
     },
     "metadata": {},
     "output_type": "display_data"
    },
    {
     "name": "stdout",
     "output_type": "stream",
     "text": [
      "root\n",
      " |-- _c0: integer (nullable = true)\n",
      " |-- patente: string (nullable = true)\n",
      " |-- mensaje_aceptacion: string (nullable = true)\n",
      " |-- fecha_consulta: string (nullable = true)"
     ]
    }
   ],
   "source": [
    "#we read the data from a list of files\n",
    "df = spark.read.format(\"csv\").option(\"inferSchema\", \"true\").option(\"header\", \"true\").option(\"sep\",\",\").load(list_files)\n",
    "df.printSchema()\n",
    "df.persist()\n",
    "df.show()\n"
   ]
  },
  {
   "cell_type": "code",
   "execution_count": 33,
   "id": "aeba860b-6eaa-4ccb-8052-191e00d515b9",
   "metadata": {
    "execution": {
     "iopub.execute_input": "2023-07-12T17:22:57.113418Z",
     "iopub.status.busy": "2023-07-12T17:22:57.113162Z",
     "iopub.status.idle": "2023-07-12T17:23:00.388258Z",
     "shell.execute_reply": "2023-07-12T17:23:00.387647Z",
     "shell.execute_reply.started": "2023-07-12T17:22:57.113398Z"
    },
    "tags": []
   },
   "outputs": [
    {
     "data": {
      "application/vnd.jupyter.widget-view+json": {
       "model_id": "80a8d714b48f4e3ba48612961e003102",
       "version_major": 2,
       "version_minor": 0
      },
      "text/plain": [
       "VBox()"
      ]
     },
     "metadata": {},
     "output_type": "display_data"
    },
    {
     "data": {
      "application/vnd.jupyter.widget-view+json": {
       "model_id": "",
       "version_major": 2,
       "version_minor": 0
      },
      "text/plain": [
       "FloatProgress(value=0.0, bar_style='info', description='Progress:', layout=Layout(height='25px', width='50%'),…"
      ]
     },
     "metadata": {},
     "output_type": "display_data"
    },
    {
     "name": "stdout",
     "output_type": "stream",
     "text": [
      "+---+-------+--------------------+--------------------+\n",
      "|_c0|patente|  mensaje_aceptacion|      fecha_consulta|\n",
      "+---+-------+--------------------+--------------------+\n",
      "|  0| TP9749|no está sujeta a ...|10 de Julio de 20...|\n",
      "|  0| SKXJ32|no está sujeta a ...|10 de Julio de 20...|\n",
      "|  0| SCFG49|no está sujeta a ...|10 de Julio de 20...|\n",
      "|  0| CHXR24|no está sujeta a ...|10 de Julio de 20...|\n",
      "|  0| RBPW66|no está sujeta a ...|10 de Julio de 20...|\n",
      "|  0| CPKX86|no está sujeta a ...|10 de Julio de 20...|\n",
      "|  0| LWVB12|no está sujeta a ...|10 de Julio de 20...|\n",
      "|  0| DCPW43|no está sujeta a ...|10 de Julio de 20...|\n",
      "|  0| LFZS28|no está sujeta a ...|10 de Julio de 20...|\n",
      "|  0| LFDZ38|no está sujeta a ...|10 de Julio de 20...|\n",
      "|  0| KBVZ63|no está sujeta a ...|10 de Julio de 20...|\n",
      "|  0| DTDV62|no está sujeta a ...|10 de Julio de 20...|\n",
      "|  0| JSHB80|no está sujeta a ...|10 de Julio de 20...|\n",
      "|  0| JRFP50|no está sujeta a ...|10 de Julio de 20...|\n",
      "|  0| JJYY89|no está sujeta a ...|10 de Julio de 20...|\n",
      "|  0| HSKS42|no está sujeta a ...|10 de Julio de 20...|\n",
      "|  0| GWVL71|no está sujeta a ...|10 de Julio de 20...|\n",
      "|  0| GPSK83|no está sujeta a ...|10 de Julio de 20...|\n",
      "|  0| GPTR12|no está sujeta a ...|10 de Julio de 20...|\n",
      "|  0| GHJC58|no está sujeta a ...|10 de Julio de 20...|\n",
      "+---+-------+--------------------+--------------------+\n",
      "only showing top 20 rows"
     ]
    }
   ],
   "source": [
    "df_total=df\n",
    "df_total.persist()\n",
    "df_total.show()"
   ]
  },
  {
   "cell_type": "code",
   "execution_count": 34,
   "id": "bccb01e6-6970-4067-9372-cfad82e3df2b",
   "metadata": {
    "execution": {
     "iopub.execute_input": "2023-07-12T17:23:19.815334Z",
     "iopub.status.busy": "2023-07-12T17:23:19.815064Z",
     "iopub.status.idle": "2023-07-12T17:23:19.863418Z",
     "shell.execute_reply": "2023-07-12T17:23:19.862872Z",
     "shell.execute_reply.started": "2023-07-12T17:23:19.815313Z"
    }
   },
   "outputs": [
    {
     "data": {
      "application/vnd.jupyter.widget-view+json": {
       "model_id": "15e86c1ea5c64af7973884fdf9352a70",
       "version_major": 2,
       "version_minor": 0
      },
      "text/plain": [
       "VBox()"
      ]
     },
     "metadata": {},
     "output_type": "display_data"
    },
    {
     "data": {
      "application/vnd.jupyter.widget-view+json": {
       "model_id": "",
       "version_major": 2,
       "version_minor": 0
      },
      "text/plain": [
       "FloatProgress(value=0.0, bar_style='info', description='Progress:', layout=Layout(height='25px', width='50%'),…"
      ]
     },
     "metadata": {},
     "output_type": "display_data"
    }
   ],
   "source": [
    "df_total=df_total.distinct()"
   ]
  },
  {
   "cell_type": "code",
   "execution_count": 35,
   "id": "59e7b0a0-cc75-48c0-a4a9-9da3cc9e165e",
   "metadata": {
    "execution": {
     "iopub.execute_input": "2023-07-12T17:23:38.490466Z",
     "iopub.status.busy": "2023-07-12T17:23:38.490212Z",
     "iopub.status.idle": "2023-07-12T17:24:29.915881Z",
     "shell.execute_reply": "2023-07-12T17:24:29.915149Z",
     "shell.execute_reply.started": "2023-07-12T17:23:38.490445Z"
    },
    "tags": []
   },
   "outputs": [
    {
     "data": {
      "application/vnd.jupyter.widget-view+json": {
       "model_id": "1d7cea3f567b4e9884afc3d1ab6ee65b",
       "version_major": 2,
       "version_minor": 0
      },
      "text/plain": [
       "VBox()"
      ]
     },
     "metadata": {},
     "output_type": "display_data"
    },
    {
     "data": {
      "application/vnd.jupyter.widget-view+json": {
       "model_id": "",
       "version_major": 2,
       "version_minor": 0
      },
      "text/plain": [
       "FloatProgress(value=0.0, bar_style='info', description='Progress:', layout=Layout(height='25px', width='50%'),…"
      ]
     },
     "metadata": {},
     "output_type": "display_data"
    },
    {
     "name": "stdout",
     "output_type": "stream",
     "text": [
      "+---+-------+--------------------+--------------------+\n",
      "|_c0|patente|  mensaje_aceptacion|      fecha_consulta|\n",
      "+---+-------+--------------------+--------------------+\n",
      "|  0| GHTT42|no está sujeta a ...|9 de Julio de 202...|\n",
      "|  0| DLBG73|no está sujeta a ...|9 de Julio de 202...|\n",
      "|  0| GTPY41|no está sujeta a ...|9 de Julio de 202...|\n",
      "|  0| UT5916|no está sujeta a ...|9 de Julio de 202...|\n",
      "|  0| YP7538|no está sujeta a ...|9 de Julio de 202...|\n",
      "|  0| VL9278|no está sujeta a ...|9 de Julio de 202...|\n",
      "|  0| YE4691|no está sujeta a ...|10 de Julio de 20...|\n",
      "|  0| KTXP38|no está sujeta a ...|10 de Julio de 20...|\n",
      "|  0| HCLH11|no está sujeta a ...|10 de Julio de 20...|\n",
      "|  0| JDTV43|no está sujeta a ...|9 de Julio de 202...|\n",
      "|  0| JCLX94|no está sujeta a ...|9 de Julio de 202...|\n",
      "|  0| LPKL65|no está sujeta a ...|10 de Julio de 20...|\n",
      "|  0| UF2700|no está sujeta a ...|10 de Julio de 20...|\n",
      "|  0| CJWB95|no está sujeta a ...|10 de Julio de 20...|\n",
      "|  0| LLJV93|no está sujeta a ...|10 de Julio de 20...|\n",
      "|  0| DSWC87|no está sujeta a ...|9 de Julio de 202...|\n",
      "|  0| RDDL16|no está sujeta a ...|9 de Julio de 202...|\n",
      "|  0| KKTR79|no está sujeta a ...|10 de Julio de 20...|\n",
      "|  0| GCPP74|no está sujeta a ...|9 de Julio de 202...|\n",
      "|  0| STPK69|no está sujeta a ...|9 de Julio de 202...|\n",
      "+---+-------+--------------------+--------------------+\n",
      "only showing top 20 rows\n",
      "\n",
      "49990"
     ]
    }
   ],
   "source": [
    "df_total.persist()\n",
    "df_total.show()\n",
    "df_total.count()"
   ]
  },
  {
   "cell_type": "markdown",
   "id": "d60b3d4f-2c33-4a57-80bd-b7fd84fc5e12",
   "metadata": {},
   "source": [
    "---\n",
    "<span style=\"color:red;\">BEGIN ETL</span>\n",
    "---"
   ]
  },
  {
   "cell_type": "code",
   "execution_count": 36,
   "id": "a785a0ed-3eab-4b4e-81a9-dd42b83caff8",
   "metadata": {
    "execution": {
     "iopub.execute_input": "2023-07-12T17:26:05.949994Z",
     "iopub.status.busy": "2023-07-12T17:26:05.949734Z",
     "iopub.status.idle": "2023-07-12T17:26:06.198277Z",
     "shell.execute_reply": "2023-07-12T17:26:06.197583Z",
     "shell.execute_reply.started": "2023-07-12T17:26:05.949974Z"
    }
   },
   "outputs": [
    {
     "data": {
      "application/vnd.jupyter.widget-view+json": {
       "model_id": "03191ea7a515493491abe9dffe69432d",
       "version_major": 2,
       "version_minor": 0
      },
      "text/plain": [
       "VBox()"
      ]
     },
     "metadata": {},
     "output_type": "display_data"
    },
    {
     "data": {
      "application/vnd.jupyter.widget-view+json": {
       "model_id": "",
       "version_major": 2,
       "version_minor": 0
      },
      "text/plain": [
       "FloatProgress(value=0.0, bar_style='info', description='Progress:', layout=Layout(height='25px', width='50%'),…"
      ]
     },
     "metadata": {},
     "output_type": "display_data"
    },
    {
     "name": "stdout",
     "output_type": "stream",
     "text": [
      "root\n",
      " |-- patente: string (nullable = true)\n",
      " |-- mensaje_aceptacion: string (nullable = true)\n",
      " |-- fecha_consulta: string (nullable = true)"
     ]
    }
   ],
   "source": [
    "df_total = df_total.select('patente','mensaje_aceptacion','fecha_consulta')\n",
    "\n",
    "def get_fecha_consulta(text):\n",
    "    month_dict = {\n",
    "        \"enero\": 1, \"febrero\": 2, \"marzo\": 3, \"abril\": 4, \"mayo\": 5, \"junio\": 6, \"julio\": 7, \"agosto\": 8, \"septiembre\": 9, \"octubre\": 10,\n",
    "        \"noviembre\": 11, \"diciembre\": 12\n",
    "    }\n",
    "    new_text = text.replace(\"de\", \"\").lower()\n",
    "    values = new_text.split(\" \")\n",
    "    values = [i for i in values if i != '']\n",
    "    day = values[0]\n",
    "    month = month_dict[values[1]]\n",
    "    year = values[2]\n",
    "    date_consulta = datetime.date(int(year), int(month), int(day))\n",
    "    return date_consulta\n",
    "\n",
    "df_total.printSchema()"
   ]
  },
  {
   "cell_type": "code",
   "execution_count": 40,
   "id": "f44c9768-9aa2-43e9-8c7b-f550fd7da89a",
   "metadata": {
    "execution": {
     "iopub.execute_input": "2023-07-12T17:29:19.551730Z",
     "iopub.status.busy": "2023-07-12T17:29:19.551437Z",
     "iopub.status.idle": "2023-07-12T17:29:20.823723Z",
     "shell.execute_reply": "2023-07-12T17:29:20.822965Z",
     "shell.execute_reply.started": "2023-07-12T17:29:19.551708Z"
    },
    "tags": []
   },
   "outputs": [
    {
     "data": {
      "application/vnd.jupyter.widget-view+json": {
       "model_id": "45c1e2c5a57f4842a8dfaf3e3f77d9c3",
       "version_major": 2,
       "version_minor": 0
      },
      "text/plain": [
       "VBox()"
      ]
     },
     "metadata": {},
     "output_type": "display_data"
    },
    {
     "data": {
      "application/vnd.jupyter.widget-view+json": {
       "model_id": "",
       "version_major": 2,
       "version_minor": 0
      },
      "text/plain": [
       "FloatProgress(value=0.0, bar_style='info', description='Progress:', layout=Layout(height='25px', width='50%'),…"
      ]
     },
     "metadata": {},
     "output_type": "display_data"
    },
    {
     "name": "stdout",
     "output_type": "stream",
     "text": [
      "root\n",
      " |-- patente: string (nullable = true)\n",
      " |-- mensaje_aceptacion: string (nullable = true)\n",
      " |-- fecha_consulta: date (nullable = true)\n",
      " |-- fecha: date (nullable = false)\n",
      " |-- year: integer (nullable = false)\n",
      " |-- month: integer (nullable = false)\n",
      " |-- day: integer (nullable = false)\n",
      "\n",
      "+-------+--------------------+--------------+----------+----+-----+---+\n",
      "|patente|  mensaje_aceptacion|fecha_consulta|     fecha|year|month|day|\n",
      "+-------+--------------------+--------------+----------+----+-----+---+\n",
      "| GHTT42|no está sujeta a ...|    2023-07-09|2023-07-10|2023|    7| 10|\n",
      "| DLBG73|no está sujeta a ...|    2023-07-09|2023-07-10|2023|    7| 10|\n",
      "| GTPY41|no está sujeta a ...|    2023-07-09|2023-07-10|2023|    7| 10|\n",
      "| UT5916|no está sujeta a ...|    2023-07-09|2023-07-10|2023|    7| 10|\n",
      "| YP7538|no está sujeta a ...|    2023-07-09|2023-07-10|2023|    7| 10|\n",
      "| VL9278|no está sujeta a ...|    2023-07-09|2023-07-10|2023|    7| 10|\n",
      "| YE4691|no está sujeta a ...|    2023-07-10|2023-07-10|2023|    7| 10|\n",
      "| KTXP38|no está sujeta a ...|    2023-07-10|2023-07-10|2023|    7| 10|\n",
      "| HCLH11|no está sujeta a ...|    2023-07-10|2023-07-10|2023|    7| 10|\n",
      "| JDTV43|no está sujeta a ...|    2023-07-09|2023-07-10|2023|    7| 10|\n",
      "| JCLX94|no está sujeta a ...|    2023-07-09|2023-07-10|2023|    7| 10|\n",
      "| LPKL65|no está sujeta a ...|    2023-07-10|2023-07-10|2023|    7| 10|\n",
      "| UF2700|no está sujeta a ...|    2023-07-10|2023-07-10|2023|    7| 10|\n",
      "| CJWB95|no está sujeta a ...|    2023-07-10|2023-07-10|2023|    7| 10|\n",
      "| LLJV93|no está sujeta a ...|    2023-07-10|2023-07-10|2023|    7| 10|\n",
      "| DSWC87|no está sujeta a ...|    2023-07-09|2023-07-10|2023|    7| 10|\n",
      "| RDDL16|no está sujeta a ...|    2023-07-09|2023-07-10|2023|    7| 10|\n",
      "| KKTR79|no está sujeta a ...|    2023-07-10|2023-07-10|2023|    7| 10|\n",
      "| GCPP74|no está sujeta a ...|    2023-07-09|2023-07-10|2023|    7| 10|\n",
      "| STPK69|no está sujeta a ...|    2023-07-09|2023-07-10|2023|    7| 10|\n",
      "+-------+--------------------+--------------+----------+----+-----+---+\n",
      "only showing top 20 rows"
     ]
    }
   ],
   "source": [
    "from pyspark.sql.functions import udf\n",
    "from datetime import datetime, timedelta\n",
    "import datetime\n",
    "\n",
    "year='2023'\n",
    "month='7'\n",
    "day='10'\n",
    "\n",
    "df=df_total\n",
    "udf_get_fecha_consulta = udf(get_fecha_consulta, DateType())\n",
    "# Assuming your DataFrame is named \"df\" and the column is \"fecha_consulta\"\n",
    "df = df.withColumn(\"fecha_consulta2\", udf_get_fecha_consulta(df.fecha_consulta))\n",
    "df = df.select('patente','mensaje_aceptacion','fecha_consulta2')\n",
    "df = df.withColumnRenamed(\"fecha_consulta2\", \"fecha_consulta\")\n",
    "df = df.withColumn(\"fecha\", lit(datetime.date(int(year), int(month), int(day))))\n",
    "df = df.withColumn(\"year\", lit(int(year)))\n",
    "df = df.withColumn(\"month\", lit(int(month)))\n",
    "df = df.withColumn(\"day\", lit(int(day)))\n",
    "\n",
    "df = df.select('patente','mensaje_aceptacion','fecha_consulta', 'fecha', 'year', 'month', 'day')\n",
    "df.persist()\n",
    "df.printSchema()\n",
    "df.show()"
   ]
  },
  {
   "cell_type": "code",
   "execution_count": 41,
   "id": "db082cc2-1639-43f1-8f63-36b57593e667",
   "metadata": {
    "execution": {
     "iopub.execute_input": "2023-07-12T17:32:18.444759Z",
     "iopub.status.busy": "2023-07-12T17:32:18.444489Z",
     "iopub.status.idle": "2023-07-12T17:32:23.722864Z",
     "shell.execute_reply": "2023-07-12T17:32:23.722338Z",
     "shell.execute_reply.started": "2023-07-12T17:32:18.444737Z"
    },
    "tags": []
   },
   "outputs": [
    {
     "data": {
      "application/vnd.jupyter.widget-view+json": {
       "model_id": "a1aa0fdf708a4ef1bd8c567fd0bb96dd",
       "version_major": 2,
       "version_minor": 0
      },
      "text/plain": [
       "VBox()"
      ]
     },
     "metadata": {},
     "output_type": "display_data"
    },
    {
     "data": {
      "application/vnd.jupyter.widget-view+json": {
       "model_id": "",
       "version_major": 2,
       "version_minor": 0
      },
      "text/plain": [
       "FloatProgress(value=0.0, bar_style='info', description='Progress:', layout=Layout(height='25px', width='50%'),…"
      ]
     },
     "metadata": {},
     "output_type": "display_data"
    }
   ],
   "source": [
    "path='s3://mloaiza.test/processced_2023_7_10/'\n",
    "df=df.repartition(100).coalesce(50)\n",
    "df.persist()\n",
    "df.write.mode('overwrite').parquet(path)"
   ]
  },
  {
   "cell_type": "markdown",
   "id": "f7eb8698-d9d9-46bd-ae3c-45c6d08ef861",
   "metadata": {},
   "source": [
    "---\n",
    "<span style=\"font-size:30px;color:green\">OLD GARBAGE</span> <i class=\"fa fa-recycle\"></i>\n",
    "---\n"
   ]
  },
  {
   "cell_type": "code",
   "execution_count": null,
   "id": "fff4467a",
   "metadata": {},
   "outputs": [],
   "source": []
  }
 ],
 "metadata": {
  "kernelspec": {
   "display_name": "Python 3 (ipykernel)",
   "language": "python",
   "name": "python3"
  },
  "language_info": {
   "codemirror_mode": {
    "name": "ipython",
    "version": 3
   },
   "file_extension": ".py",
   "mimetype": "text/x-python",
   "name": "python",
   "nbconvert_exporter": "python",
   "pygments_lexer": "ipython3",
   "version": "3.10.6"
  }
 },
 "nbformat": 4,
 "nbformat_minor": 5
}
